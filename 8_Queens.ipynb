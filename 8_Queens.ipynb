{
 "cells": [
  {
   "cell_type": "markdown",
   "id": "c39e336d",
   "metadata": {},
   "source": [
    "## Import Libararies"
   ]
  },
  {
   "cell_type": "code",
   "execution_count": 1,
   "id": "84ae88a8",
   "metadata": {},
   "outputs": [],
   "source": [
    "import random\n",
    "import numpy as np"
   ]
  },
  {
   "cell_type": "markdown",
   "id": "dbebf156",
   "metadata": {},
   "source": [
    "### Create an Empty Board"
   ]
  },
  {
   "cell_type": "code",
   "execution_count": 2,
   "id": "234b6c75",
   "metadata": {},
   "outputs": [],
   "source": [
    "# Board=np.array([(0,0,0,0,0,0,0,0),(0,0,0,0,0,0,0,0),(0,0,0,0,0,0,0,0),(0,0,0,0,0,0,0,0),(0,0,0,0,0,0,0,0),(0,0,0,0,0,0,0,0),(0,0,0,0,0,0,0,0),(0,0,0,0,0,0,0,0),])\n",
    "board = np.zeros((8, 8))"
   ]
  },
  {
   "cell_type": "markdown",
   "id": "cf758fb3",
   "metadata": {},
   "source": [
    "### Create functions that sum all the queens in all rows and columns"
   ]
  },
  {
   "cell_type": "code",
   "execution_count": 3,
   "id": "e01a5de4",
   "metadata": {},
   "outputs": [],
   "source": [
    "def sumrow(row):\n",
    "    return True if sum(row) == 1 else False"
   ]
  },
  {
   "cell_type": "code",
   "execution_count": 4,
   "id": "e25670bd",
   "metadata": {},
   "outputs": [],
   "source": [
    "def allrow(br):\n",
    "    tr=0\n",
    "    for i in br:\n",
    "        if sumrow(i):\n",
    "            tr+=1\n",
    "    if tr==8:\n",
    "        return True"
   ]
  },
  {
   "cell_type": "code",
   "execution_count": 5,
   "id": "af2895df",
   "metadata": {},
   "outputs": [],
   "source": [
    "def sumcol(col):\n",
    "    sum1=0\n",
    "    for i in range(0,8):\n",
    "        sum1+=br[i][col]\n",
    "    if sum1==1:\n",
    "        return True\n",
    "    else:\n",
    "        return False"
   ]
  },
  {
   "cell_type": "code",
   "execution_count": 6,
   "id": "aeb1fb92",
   "metadata": {},
   "outputs": [],
   "source": [
    "def allcol(bro):\n",
    "    global br\n",
    "    br=bro\n",
    "    sum1=0\n",
    "    for i in range(0,8):\n",
    "        b=sumcol(i)\n",
    "        if b==1:\n",
    "            sum1+=1\n",
    "        else:\n",
    "            pass\n",
    "    if sum1==8:\n",
    "        return True\n",
    "    else:\n",
    "        return False"
   ]
  },
  {
   "cell_type": "markdown",
   "id": "fe6f1003",
   "metadata": {},
   "source": [
    "### Create functions that sum all queens in all Diagnol lines"
   ]
  },
  {
   "cell_type": "code",
   "execution_count": 9,
   "id": "f0df14fa",
   "metadata": {},
   "outputs": [],
   "source": [
    "def p1(br):\n",
    "    a=''\n",
    "    for i in range(8,1,-1):\n",
    "        sum1=0\n",
    "        for j in range(i):\n",
    "            col=j\n",
    "            row=i-j-1\n",
    "            sum1+=br[row][col]\n",
    "        a+=str(sum1)\n",
    "    for i in a:\n",
    "        i=int(i)\n",
    "        if i>1:\n",
    "            return False\n",
    "    return True  "
   ]
  },
  {
   "cell_type": "code",
   "execution_count": 49,
   "id": "b4a49d7a",
   "metadata": {},
   "outputs": [],
   "source": [
    "def p2(br):\n",
    "    a=''\n",
    "    for i in range(8,1,-1):\n",
    "        sum1=0\n",
    "        for j in range(i):\n",
    "            col=j\n",
    "            row=j-i\n",
    "            sum1+=br[row][col]\n",
    "        a+=str(sum1)\n",
    "    for i in a:\n",
    "        i=int(i)\n",
    "        if i>1:\n",
    "            return False\n",
    "    return True"
   ]
  },
  {
   "cell_type": "code",
   "execution_count": 43,
   "id": "adc7de2d",
   "metadata": {},
   "outputs": [],
   "source": [
    "def p3(br):\n",
    "    a=''\n",
    "    for i in range(0,8):\n",
    "        sum1=0\n",
    "        for j in range(7,i-1,-1):\n",
    "            col=j\n",
    "            row=j-i\n",
    "            sum1+=br[row][col]\n",
    "        a+=str(sum1)\n",
    "    for i in a:\n",
    "        i=int(i)\n",
    "        if i>1:\n",
    "            return False\n",
    "    return True"
   ]
  },
  {
   "cell_type": "code",
   "execution_count": 61,
   "id": "df19ca24",
   "metadata": {},
   "outputs": [],
   "source": [
    "def p4(br):\n",
    "    a=''\n",
    "    for i in range(7,0,-1):\n",
    "        sum1=0\n",
    "        for j in range(i):\n",
    "            col=i\n",
    "            row=j-i\n",
    "            sum1+=br[row][col]\n",
    "        a+=str(sum1)\n",
    "    for i in a:\n",
    "        i=int(i)\n",
    "        if i>1:\n",
    "            return False\n",
    "    return True"
   ]
  },
  {
   "cell_type": "markdown",
   "id": "9eb510e7",
   "metadata": {},
   "source": [
    "### run the cell below to know the patterns which p1,p2,p3,p4 represent"
   ]
  },
  {
   "cell_type": "code",
   "execution_count": 73,
   "id": "c08b2067",
   "metadata": {},
   "outputs": [],
   "source": [
    "# #p1\n",
    "# print('Pattern 1')\n",
    "# Board=np.zeros((8,8))\n",
    "# for i in range(8,0,-1):\n",
    "#         sum1=0\n",
    "#         for j in range(i):\n",
    "#             col=j\n",
    "#             row=i-j-1\n",
    "#             Board[row][col]=1\n",
    "# print(Board)\n",
    "# #p2\n",
    "# print('Pattern 2')\n",
    "# Board=np.zeros((8,8))\n",
    "# for i in range(8,0,-1):\n",
    "#         sum1=0\n",
    "#         for j in range(i):\n",
    "#             col=j\n",
    "#             row=j-i\n",
    "#             Board[row][col]=1\n",
    "# print(Board)\n",
    "\n",
    "# #p3\n",
    "# print('Pattern 3')\n",
    "# Board=np.zeros((8,8))\n",
    "# for i in range(0,8):\n",
    "#         sum1=0\n",
    "#         for j in range(7,i-1,-1):\n",
    "#             col=j\n",
    "#             row=j-i\n",
    "#             Board[row][col]=1\n",
    "# print(Board)\n",
    "# #p4\n",
    "# print('Pattern 4')\n",
    "# Board=np.zeros((8,8))\n",
    "# for i in range(7,0,-1):\n",
    "#         sum1=0\n",
    "#         for j in range(i):\n",
    "#             col=i\n",
    "#             row=j-i\n",
    "#             Board[row][col]=1\n",
    "# print(Board)"
   ]
  },
  {
   "cell_type": "markdown",
   "id": "e43652ba",
   "metadata": {},
   "source": [
    "### Making sure all the rules are followed"
   ]
  },
  {
   "cell_type": "code",
   "execution_count": 62,
   "id": "2c58d117",
   "metadata": {},
   "outputs": [],
   "source": [
    "def final(board):\n",
    "    br=board\n",
    "    bro=board\n",
    "    if allcol(board) and allrow(board) and d1sum(board) and d2sum(board) and p1(board) and p2(board) and p3(board) and p4(board):\n",
    "        return True\n",
    "    else:\n",
    "        return False"
   ]
  },
  {
   "cell_type": "markdown",
   "id": "109b47aa",
   "metadata": {},
   "source": [
    "### Generating the solution and checking number of times the program was executed"
   ]
  },
  {
   "cell_type": "code",
   "execution_count": 71,
   "id": "5c7b9513",
   "metadata": {},
   "outputs": [
    {
     "name": "stdout",
     "output_type": "stream",
     "text": [
      "397046\n"
     ]
    }
   ],
   "source": [
    "Board=np.array([(0,0,0,0,0,0,0,0),(0,0,0,0,0,0,0,0),(0,0,0,0,0,0,0,0),(0,0,0,0,0,0,0,0),(0,0,0,0,0,0,0,0),(0,0,0,0,0,0,0,0),(0,0,0,0,0,0,0,0),(0,0,0,0,0,0,0,0)])\n",
    "ite=0\n",
    "while not (final(Board)):\n",
    "    Board=np.array([(0,0,0,0,0,0,0,0),(0,0,0,0,0,0,0,0),(0,0,0,0,0,0,0,0),(0,0,0,0,0,0,0,0),(0,0,0,0,0,0,0,0),(0,0,0,0,0,0,0,0),(0,0,0,0,0,0,0,0),(0,0,0,0,0,0,0,0)])\n",
    "    for i in range(8):\n",
    "        a=random.randint(0,7)\n",
    "        Board[i][a]=1\n",
    "    ite+=1\n",
    "print(ite)"
   ]
  },
  {
   "cell_type": "markdown",
   "id": "37e62124",
   "metadata": {},
   "source": [
    "### Print final solution where 1 represents a Queen and 0 Represents an empty block"
   ]
  },
  {
   "cell_type": "code",
   "execution_count": 72,
   "id": "0712a10c",
   "metadata": {},
   "outputs": [
    {
     "data": {
      "text/plain": [
       "array([[0, 0, 0, 0, 0, 1, 0, 0],\n",
       "       [0, 0, 1, 0, 0, 0, 0, 0],\n",
       "       [0, 0, 0, 0, 0, 0, 1, 0],\n",
       "       [0, 0, 0, 1, 0, 0, 0, 0],\n",
       "       [1, 0, 0, 0, 0, 0, 0, 0],\n",
       "       [0, 0, 0, 0, 0, 0, 0, 1],\n",
       "       [0, 1, 0, 0, 0, 0, 0, 0],\n",
       "       [0, 0, 0, 0, 1, 0, 0, 0]])"
      ]
     },
     "execution_count": 72,
     "metadata": {},
     "output_type": "execute_result"
    }
   ],
   "source": [
    "Board"
   ]
  },
  {
   "cell_type": "code",
   "execution_count": null,
   "id": "b7b98ccb",
   "metadata": {},
   "outputs": [],
   "source": []
  }
 ],
 "metadata": {
  "kernelspec": {
   "display_name": "Python 3 (ipykernel)",
   "language": "python",
   "name": "python3"
  },
  "language_info": {
   "codemirror_mode": {
    "name": "ipython",
    "version": 3
   },
   "file_extension": ".py",
   "mimetype": "text/x-python",
   "name": "python",
   "nbconvert_exporter": "python",
   "pygments_lexer": "ipython3",
   "version": "3.9.7"
  }
 },
 "nbformat": 4,
 "nbformat_minor": 5
}
